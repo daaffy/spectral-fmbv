{
 "cells": [
  {
   "cell_type": "code",
   "execution_count": 202,
   "metadata": {},
   "outputs": [],
   "source": [
    "\"\"\"\n",
    "    Here we test the coarse graining class.\n",
    "\"\"\"\n",
    "\n",
    "%reload_ext autoreload\n",
    "%autoreload 2\n",
    "\n",
    "import sys\n",
    "sys.path.insert(1,'./../src')\n",
    "\n",
    "import methods\n",
    "import networkx as nx\n",
    "import numpy as np\n",
    "import random_walk as rw\n",
    "import scipy\n"
   ]
  },
  {
   "cell_type": "code",
   "execution_count": 203,
   "metadata": {},
   "outputs": [],
   "source": [
    "# test on 1D line\n",
    "n = 9\n",
    "G = nx.Graph()\n",
    "for i in range(0,n):\n",
    "    G.add_edge(i,i+1, weight=1)"
   ]
  },
  {
   "cell_type": "code",
   "execution_count": 204,
   "metadata": {},
   "outputs": [],
   "source": [
    "# construct partition\n",
    "nodes = list(G.nodes)\n",
    "part = []\n",
    "for node in nodes:\n",
    "    if node < 5:\n",
    "        part.append(0)\n",
    "    # elif node > 8:\n",
    "    #     part.append(2)\n",
    "    else:\n",
    "        part.append(1)\n"
   ]
  },
  {
   "cell_type": "code",
   "execution_count": 205,
   "metadata": {},
   "outputs": [],
   "source": [
    "cG = methods.CoarseGraph(G, part)"
   ]
  },
  {
   "cell_type": "code",
   "execution_count": 206,
   "metadata": {},
   "outputs": [
    {
     "data": {
      "text/plain": [
       "EdgeDataView([(0, 0, {'weight': 0.8333333333333335}), (0, 1, {'weight': 0.1111111111111111}), (1, 1, {'weight': 0.8333333333333335})])"
      ]
     },
     "execution_count": 206,
     "metadata": {},
     "output_type": "execute_result"
    }
   ],
   "source": [
    "cG.edges.data()"
   ]
  },
  {
   "cell_type": "code",
   "execution_count": 207,
   "metadata": {},
   "outputs": [],
   "source": [
    "# build random walk class and test coarse against original.\n",
    "walk = rw.RandomWalk(G)"
   ]
  },
  {
   "cell_type": "code",
   "execution_count": 215,
   "metadata": {},
   "outputs": [],
   "source": [
    "walk._setup_inc_trans(0, inc=np.array(part))\n",
    "\n",
    "k = 10000000\n",
    "for i in range(k):\n",
    "    walk._step_inc_trans()"
   ]
  },
  {
   "cell_type": "code",
   "execution_count": 209,
   "metadata": {},
   "outputs": [
    {
     "name": "stdout",
     "output_type": "stream",
     "text": [
      "[[2226548  277562]\n",
      " [ 277562 2218328]]\n",
      "[[0.88915743 0.11120763]\n",
      " [0.11084257 0.88879237]]\n"
     ]
    }
   ],
   "source": [
    "print(walk.inc_T)\n",
    "print(walk.inc_T/np.sum(walk.inc_T, axis=0))"
   ]
  },
  {
   "cell_type": "code",
   "execution_count": 216,
   "metadata": {},
   "outputs": [
    {
     "name": "stdout",
     "output_type": "stream",
     "text": [
      "8.027705615244566\n",
      "7.962951835407057\n"
     ]
    }
   ],
   "source": [
    "print(walk.inc_T[0,0] / walk.inc_T[0,1])\n",
    "print(walk.inc_T[1,1] / walk.inc_T[0,1])"
   ]
  },
  {
   "cell_type": "code",
   "execution_count": 211,
   "metadata": {},
   "outputs": [],
   "source": [
    "walk2 = rw.RandomWalk(cG)"
   ]
  },
  {
   "cell_type": "code",
   "execution_count": 212,
   "metadata": {},
   "outputs": [
    {
     "data": {
      "text/plain": [
       "array([[0.88235294, 0.11764706],\n",
       "       [0.11764706, 0.88235294]])"
      ]
     },
     "execution_count": 212,
     "metadata": {},
     "output_type": "execute_result"
    }
   ],
   "source": [
    "walk2.T"
   ]
  },
  {
   "cell_type": "code",
   "execution_count": 213,
   "metadata": {},
   "outputs": [],
   "source": [
    "walk2._setup_inc_trans(0, inc=[0,1])\n",
    "\n",
    "k = 5000000\n",
    "for i in range(k):\n",
    "    walk2._step_inc_trans()"
   ]
  },
  {
   "cell_type": "code",
   "execution_count": 217,
   "metadata": {},
   "outputs": [
    {
     "name": "stdout",
     "output_type": "stream",
     "text": [
      "[[2207568  293875]\n",
      " [ 293875 2204682]]\n",
      "[[0.88251781 0.11761789]\n",
      " [0.11748219 0.88238211]]\n",
      "7.511928541046363\n",
      "7.502108039132284\n"
     ]
    }
   ],
   "source": [
    "print(walk2.inc_T)\n",
    "print(walk2.inc_T/np.sum(walk2.inc_T, axis=0))\n",
    "print(walk2.inc_T[0,0] / walk2.inc_T[0,1])\n",
    "print(walk2.inc_T[1,1] / walk2.inc_T[0,1])"
   ]
  }
 ],
 "metadata": {
  "kernelspec": {
   "display_name": "gordon_original",
   "language": "python",
   "name": "python3"
  },
  "language_info": {
   "codemirror_mode": {
    "name": "ipython",
    "version": 3
   },
   "file_extension": ".py",
   "mimetype": "text/x-python",
   "name": "python",
   "nbconvert_exporter": "python",
   "pygments_lexer": "ipython3",
   "version": "3.11.2"
  }
 },
 "nbformat": 4,
 "nbformat_minor": 2
}
