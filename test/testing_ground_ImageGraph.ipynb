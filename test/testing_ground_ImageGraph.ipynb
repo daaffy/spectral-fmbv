{
 "cells": [
  {
   "cell_type": "code",
   "execution_count": 1,
   "metadata": {},
   "outputs": [
    {
     "name": "stderr",
     "output_type": "stream",
     "text": [
      "ERROR:root:Error during import of compiled filters!\n",
      "ERROR:root:No module named 'png.pngfilters'\n",
      "ERROR:root:Fallback to pure python mode!\n"
     ]
    }
   ],
   "source": [
    "%reload_ext autoreload\n",
    "%autoreload 2\n",
    "\n",
    "import sys\n",
    "sys.path.insert(1,'./../src')\n",
    "\n",
    "\n",
    "import methods\n",
    "import matplotlib.pyplot as plt\n",
    "import networkx as nx\n",
    "import scipy\n",
    "import numpy as np\n",
    "import betterspy"
   ]
  },
  {
   "cell_type": "code",
   "execution_count": 2,
   "metadata": {},
   "outputs": [
    {
     "data": {
      "text/plain": [
       "<matplotlib.image.AxesImage at 0x182af87d0>"
      ]
     },
     "execution_count": 2,
     "metadata": {},
     "output_type": "execute_result"
    },
    {
     "data": {
      "image/png": "[encoded data removed]",
      "text/plain": [
       "<Figure size 640x480 with 1 Axes>"
      ]
     },
     "metadata": {},
     "output_type": "display_data"
    }
   ],
   "source": [
    "img_array, sh = methods.blank(n=10, noise=0)\n",
    "# img_array, sh = methods.pd()\n",
    "\n",
    "# -- mask?\n",
    "mask_array = np.full(img_array.shape, False)\n",
    "mask_array[:,5:] = True\n",
    "\n",
    "# mask_array = np.full(img_array.shape, True)\n",
    "\n",
    "# mask_array = img_array > 0\n",
    "\n",
    "plt.imshow(img_array)\n",
    "# plt.imshow(mask_array)"
   ]
  },
  {
   "cell_type": "code",
   "execution_count": 3,
   "metadata": {},
   "outputs": [],
   "source": [
    "iG = methods.ImageGraph(img_array, mask_array=mask_array)"
   ]
  },
  {
   "cell_type": "code",
   "execution_count": 4,
   "metadata": {},
   "outputs": [],
   "source": [
    "# plt.spy(nx.to_scipy_sparse_array(iG.G))"
   ]
  },
  {
   "cell_type": "code",
   "execution_count": 5,
   "metadata": {},
   "outputs": [
    {
     "data": {
      "text/plain": [
       "51"
      ]
     },
     "execution_count": 5,
     "metadata": {},
     "output_type": "execute_result"
    }
   ],
   "source": [
    "list(iG.G.nodes)[0]"
   ]
  },
  {
   "cell_type": "code",
   "execution_count": 6,
   "metadata": {},
   "outputs": [
    {
     "data": {
      "text/plain": [
       "<matplotlib.image.AxesImage at 0x182e64cd0>"
      ]
     },
     "execution_count": 6,
     "metadata": {},
     "output_type": "execute_result"
    },
    {
     "data": {
      "image/png": "[encoded data removed]",
      "text/plain": [
       "<Figure size 640x480 with 1 Axes>"
      ]
     },
     "metadata": {},
     "output_type": "display_data"
    }
   ],
   "source": [
    "N = nx.normalized_laplacian_matrix(iG.G)\n",
    "vals, vecs = scipy.sparse.linalg.eigs(N,which='SR')\n",
    "\n",
    "plot_array = iG._node_vec_to_img_array(np.real(vecs[:,0]))\n",
    "\n",
    "# re2 = np.transpose(np.real(vecs[:,0].reshape(sh[1],sh[0]))) # order?\n",
    "# plt.imshow(re2, cmap='bwr')\n",
    "plt.imshow(plot_array, cmap='bwr')"
   ]
  }
 ],
 "metadata": {
  "kernelspec": {
   "display_name": "gordon_original",
   "language": "python",
   "name": "python3"
  },
  "language_info": {
   "codemirror_mode": {
    "name": "ipython",
    "version": 3
   },
   "file_extension": ".py",
   "mimetype": "text/x-python",
   "name": "python",
   "nbconvert_exporter": "python",
   "pygments_lexer": "ipython3",
   "version": "3.11.2"
  }
 },
 "nbformat": 4,
 "nbformat_minor": 2
}
